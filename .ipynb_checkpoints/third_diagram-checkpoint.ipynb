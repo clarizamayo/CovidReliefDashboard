{
 "cells": [
  {
   "cell_type": "code",
   "execution_count": 1,
   "metadata": {},
   "outputs": [],
   "source": [
    "import pandas as pd\n",
    "import numpy as np \n",
    "import matplotlib.pyplot as plt\n",
    "import requests\n",
    "import json"
   ]
  },
  {
   "cell_type": "code",
   "execution_count": 2,
   "metadata": {},
   "outputs": [],
   "source": [
    "#Totals Folder: by_boro\n",
    "totals_boro = pd.read_csv(\"https://raw.githubusercontent.com/nychealth/coronavirus-data/master/totals/by-boro.csv\")"
   ]
  },
  {
   "cell_type": "code",
   "execution_count": 3,
   "metadata": {},
   "outputs": [
    {
     "data": {
      "text/html": [
       "<div>\n",
       "<style scoped>\n",
       "    .dataframe tbody tr th:only-of-type {\n",
       "        vertical-align: middle;\n",
       "    }\n",
       "\n",
       "    .dataframe tbody tr th {\n",
       "        vertical-align: top;\n",
       "    }\n",
       "\n",
       "    .dataframe thead th {\n",
       "        text-align: right;\n",
       "    }\n",
       "</style>\n",
       "<table border=\"1\" class=\"dataframe\">\n",
       "  <thead>\n",
       "    <tr style=\"text-align: right;\">\n",
       "      <th></th>\n",
       "      <th>BOROUGH_GROUP</th>\n",
       "      <th>CASE_RATE</th>\n",
       "      <th>HOSPITALIZED_RATE</th>\n",
       "      <th>DEATH_RATE</th>\n",
       "      <th>CASE_COUNT</th>\n",
       "      <th>HOSPITALIZED_COUNT</th>\n",
       "      <th>DEATH_COUNT</th>\n",
       "    </tr>\n",
       "  </thead>\n",
       "  <tbody>\n",
       "    <tr>\n",
       "      <th>0</th>\n",
       "      <td>Bronx</td>\n",
       "      <td>10168.40</td>\n",
       "      <td>1552.95</td>\n",
       "      <td>380.97</td>\n",
       "      <td>144209</td>\n",
       "      <td>22024</td>\n",
       "      <td>5403</td>\n",
       "    </tr>\n",
       "    <tr>\n",
       "      <th>1</th>\n",
       "      <td>Brooklyn</td>\n",
       "      <td>8490.75</td>\n",
       "      <td>1179.22</td>\n",
       "      <td>318.45</td>\n",
       "      <td>217355</td>\n",
       "      <td>30187</td>\n",
       "      <td>8152</td>\n",
       "    </tr>\n",
       "    <tr>\n",
       "      <th>2</th>\n",
       "      <td>Manhattan</td>\n",
       "      <td>6352.40</td>\n",
       "      <td>896.05</td>\n",
       "      <td>221.10</td>\n",
       "      <td>103462</td>\n",
       "      <td>14594</td>\n",
       "      <td>3601</td>\n",
       "    </tr>\n",
       "    <tr>\n",
       "      <th>3</th>\n",
       "      <td>Queens</td>\n",
       "      <td>9630.64</td>\n",
       "      <td>1362.82</td>\n",
       "      <td>365.02</td>\n",
       "      <td>217061</td>\n",
       "      <td>30716</td>\n",
       "      <td>8227</td>\n",
       "    </tr>\n",
       "    <tr>\n",
       "      <th>4</th>\n",
       "      <td>StatenIsland</td>\n",
       "      <td>12318.57</td>\n",
       "      <td>1173.18</td>\n",
       "      <td>322.80</td>\n",
       "      <td>58654</td>\n",
       "      <td>5586</td>\n",
       "      <td>1537</td>\n",
       "    </tr>\n",
       "    <tr>\n",
       "      <th>5</th>\n",
       "      <td>Citywide</td>\n",
       "      <td>8885.71</td>\n",
       "      <td>1236.78</td>\n",
       "      <td>322.91</td>\n",
       "      <td>740785</td>\n",
       "      <td>103108</td>\n",
       "      <td>26920</td>\n",
       "    </tr>\n",
       "  </tbody>\n",
       "</table>\n",
       "</div>"
      ],
      "text/plain": [
       "  BOROUGH_GROUP  CASE_RATE  HOSPITALIZED_RATE  DEATH_RATE  CASE_COUNT  \\\n",
       "0         Bronx   10168.40            1552.95      380.97      144209   \n",
       "1      Brooklyn    8490.75            1179.22      318.45      217355   \n",
       "2     Manhattan    6352.40             896.05      221.10      103462   \n",
       "3        Queens    9630.64            1362.82      365.02      217061   \n",
       "4  StatenIsland   12318.57            1173.18      322.80       58654   \n",
       "5      Citywide    8885.71            1236.78      322.91      740785   \n",
       "\n",
       "   HOSPITALIZED_COUNT  DEATH_COUNT  \n",
       "0               22024         5403  \n",
       "1               30187         8152  \n",
       "2               14594         3601  \n",
       "3               30716         8227  \n",
       "4                5586         1537  \n",
       "5              103108        26920  "
      ]
     },
     "execution_count": 3,
     "metadata": {},
     "output_type": "execute_result"
    }
   ],
   "source": [
    "totals_boro"
   ]
  },
  {
   "cell_type": "markdown",
   "metadata": {},
   "source": [
    "### Data Exploration"
   ]
  },
  {
   "cell_type": "code",
   "execution_count": 4,
   "metadata": {},
   "outputs": [
    {
     "data": {
      "text/html": [
       "<div>\n",
       "<style scoped>\n",
       "    .dataframe tbody tr th:only-of-type {\n",
       "        vertical-align: middle;\n",
       "    }\n",
       "\n",
       "    .dataframe tbody tr th {\n",
       "        vertical-align: top;\n",
       "    }\n",
       "\n",
       "    .dataframe thead th {\n",
       "        text-align: right;\n",
       "    }\n",
       "</style>\n",
       "<table border=\"1\" class=\"dataframe\">\n",
       "  <thead>\n",
       "    <tr style=\"text-align: right;\">\n",
       "      <th></th>\n",
       "      <th>borough</th>\n",
       "      <th>_2020</th>\n",
       "    </tr>\n",
       "  </thead>\n",
       "  <tbody>\n",
       "    <tr>\n",
       "      <th>0</th>\n",
       "      <td>NYC Total</td>\n",
       "      <td>8550971</td>\n",
       "    </tr>\n",
       "    <tr>\n",
       "      <th>1</th>\n",
       "      <td>Bronx</td>\n",
       "      <td>1446788</td>\n",
       "    </tr>\n",
       "    <tr>\n",
       "      <th>2</th>\n",
       "      <td>Brooklyn</td>\n",
       "      <td>2648452</td>\n",
       "    </tr>\n",
       "    <tr>\n",
       "      <th>3</th>\n",
       "      <td>Manhattan</td>\n",
       "      <td>1638281</td>\n",
       "    </tr>\n",
       "    <tr>\n",
       "      <th>4</th>\n",
       "      <td>Queens</td>\n",
       "      <td>2330295</td>\n",
       "    </tr>\n",
       "    <tr>\n",
       "      <th>5</th>\n",
       "      <td>Staten Island</td>\n",
       "      <td>487155</td>\n",
       "    </tr>\n",
       "  </tbody>\n",
       "</table>\n",
       "</div>"
      ],
      "text/plain": [
       "            borough    _2020\n",
       "0         NYC Total  8550971\n",
       "1             Bronx  1446788\n",
       "2          Brooklyn  2648452\n",
       "3         Manhattan  1638281\n",
       "4            Queens  2330295\n",
       "5     Staten Island   487155"
      ]
     },
     "execution_count": 4,
     "metadata": {},
     "output_type": "execute_result"
    }
   ],
   "source": [
    "r = requests.get(\"https://data.cityofnewyork.us/resource/xywu-7bv9.json?\")\n",
    "population =pd.DataFrame(json.loads(r.text))\n",
    "population[[\"borough\",\"_2020\"]]"
   ]
  },
  {
   "cell_type": "code",
   "execution_count": 5,
   "metadata": {},
   "outputs": [],
   "source": [
    "totals_boro[\"POPULATION\"] = population[\"_2020\"]"
   ]
  },
  {
   "cell_type": "code",
   "execution_count": 9,
   "metadata": {},
   "outputs": [],
   "source": [
    "totals_boro.drop(columns = [\"CASE_RATE\",\"HOSPITALIZED_RATE\", \"DEATH_RATE\"], axis=1, inplace=True)"
   ]
  },
  {
   "cell_type": "code",
   "execution_count": 10,
   "metadata": {},
   "outputs": [
    {
     "data": {
      "text/html": [
       "<div>\n",
       "<style scoped>\n",
       "    .dataframe tbody tr th:only-of-type {\n",
       "        vertical-align: middle;\n",
       "    }\n",
       "\n",
       "    .dataframe tbody tr th {\n",
       "        vertical-align: top;\n",
       "    }\n",
       "\n",
       "    .dataframe thead th {\n",
       "        text-align: right;\n",
       "    }\n",
       "</style>\n",
       "<table border=\"1\" class=\"dataframe\">\n",
       "  <thead>\n",
       "    <tr style=\"text-align: right;\">\n",
       "      <th></th>\n",
       "      <th>BOROUGH_GROUP</th>\n",
       "      <th>CASE_COUNT</th>\n",
       "      <th>HOSPITALIZED_COUNT</th>\n",
       "      <th>DEATH_COUNT</th>\n",
       "      <th>POPULATION</th>\n",
       "    </tr>\n",
       "  </thead>\n",
       "  <tbody>\n",
       "    <tr>\n",
       "      <th>0</th>\n",
       "      <td>Bronx</td>\n",
       "      <td>144209</td>\n",
       "      <td>22024</td>\n",
       "      <td>5403</td>\n",
       "      <td>8550971</td>\n",
       "    </tr>\n",
       "    <tr>\n",
       "      <th>1</th>\n",
       "      <td>Brooklyn</td>\n",
       "      <td>217355</td>\n",
       "      <td>30187</td>\n",
       "      <td>8152</td>\n",
       "      <td>1446788</td>\n",
       "    </tr>\n",
       "    <tr>\n",
       "      <th>2</th>\n",
       "      <td>Manhattan</td>\n",
       "      <td>103462</td>\n",
       "      <td>14594</td>\n",
       "      <td>3601</td>\n",
       "      <td>2648452</td>\n",
       "    </tr>\n",
       "    <tr>\n",
       "      <th>3</th>\n",
       "      <td>Queens</td>\n",
       "      <td>217061</td>\n",
       "      <td>30716</td>\n",
       "      <td>8227</td>\n",
       "      <td>1638281</td>\n",
       "    </tr>\n",
       "    <tr>\n",
       "      <th>4</th>\n",
       "      <td>StatenIsland</td>\n",
       "      <td>58654</td>\n",
       "      <td>5586</td>\n",
       "      <td>1537</td>\n",
       "      <td>2330295</td>\n",
       "    </tr>\n",
       "    <tr>\n",
       "      <th>5</th>\n",
       "      <td>Citywide</td>\n",
       "      <td>740785</td>\n",
       "      <td>103108</td>\n",
       "      <td>26920</td>\n",
       "      <td>487155</td>\n",
       "    </tr>\n",
       "  </tbody>\n",
       "</table>\n",
       "</div>"
      ],
      "text/plain": [
       "  BOROUGH_GROUP  CASE_COUNT  HOSPITALIZED_COUNT  DEATH_COUNT POPULATION\n",
       "0         Bronx      144209               22024         5403    8550971\n",
       "1      Brooklyn      217355               30187         8152    1446788\n",
       "2     Manhattan      103462               14594         3601    2648452\n",
       "3        Queens      217061               30716         8227    1638281\n",
       "4  StatenIsland       58654                5586         1537    2330295\n",
       "5      Citywide      740785              103108        26920     487155"
      ]
     },
     "execution_count": 10,
     "metadata": {},
     "output_type": "execute_result"
    }
   ],
   "source": [
    "totals_boro"
   ]
  },
  {
   "cell_type": "markdown",
   "metadata": {},
   "source": [
    "### Filling in missing values and creating new columns"
   ]
  },
  {
   "cell_type": "markdown",
   "metadata": {},
   "source": [
    "### Graphing\n",
    "#### Now that I have all the data I will need for Diagram #3 (Correleation Between Infection Rate and  Total Population Per Borough). I will start plotting. "
   ]
  },
  {
   "cell_type": "code",
   "execution_count": 13,
   "metadata": {},
   "outputs": [],
   "source": [
    "user_filter = \"CASE_COUNT\""
   ]
  },
  {
   "cell_type": "code",
   "execution_count": 15,
   "metadata": {},
   "outputs": [
    {
     "data": {
      "image/png": "[encoded data removed]",
      "text/plain": [
       "<Figure size 1440x720 with 1 Axes>"
      ]
     },
     "metadata": {},
     "output_type": "display_data"
    },
    {
     "data": {
      "image/png": "[encoded data removed]",
      "text/plain": [
       "<Figure size 432x288 with 1 Axes>"
      ]
     },
     "metadata": {},
     "output_type": "display_data"
    }
   ],
   "source": [
    "from matplotlib import style\n",
    "\n",
    "plt.style.use('fivethirtyeight')\n",
    "fig,ax=plt.subplots(figsize=(20,10))\n",
    "color = (\"red\", \"purple\")\n",
    "ax.barh()\n",
    "# ax.set_title(f'Number of cases per age group in {borough_filter[:2]}',size=24)\n",
    "# ax.set_xlabel('Age group',size=15)\n",
    "# ax.set_ylabel('Number of cases', size=15)\n",
    "plt.show()"
   ]
  },
  {
   "cell_type": "raw",
   "metadata": {},
   "source": []
  },
  {
   "cell_type": "code",
   "execution_count": null,
   "metadata": {},
   "outputs": [],
   "source": []
  }
 ],
 "metadata": {
  "kernelspec": {
   "display_name": "Python 3",
   "language": "python",
   "name": "python3"
  },
  "language_info": {
   "codemirror_mode": {
    "name": "ipython",
    "version": 3
   },
   "file_extension": ".py",
   "mimetype": "text/x-python",
   "name": "python",
   "nbconvert_exporter": "python",
   "pygments_lexer": "ipython3",
   "version": "3.8.3"
  }
 },
 "nbformat": 4,
 "nbformat_minor": 4
}
