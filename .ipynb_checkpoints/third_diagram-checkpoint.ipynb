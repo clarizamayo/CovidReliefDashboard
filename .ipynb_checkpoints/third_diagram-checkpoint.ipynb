{
 "cells": [
  {
   "cell_type": "code",
   "execution_count": 4,
   "metadata": {},
   "outputs": [],
   "source": [
    "import pandas as pd\n",
    "import numpy as np \n",
    "import matplotlib.pyplot as plt\n",
    "import requests\n",
    "import json"
   ]
  },
  {
   "cell_type": "code",
   "execution_count": 5,
   "metadata": {},
   "outputs": [],
   "source": [
    "#Totals Folder: by_boro\n",
    "totals_boro = pd.read_csv(\"https://raw.githubusercontent.com/nychealth/coronavirus-data/master/totals/by-boro.csv\")"
   ]
  },
  {
   "cell_type": "code",
   "execution_count": 6,
   "metadata": {},
   "outputs": [
    {
     "data": {
      "text/html": [
       "<div>\n",
       "<style scoped>\n",
       "    .dataframe tbody tr th:only-of-type {\n",
       "        vertical-align: middle;\n",
       "    }\n",
       "\n",
       "    .dataframe tbody tr th {\n",
       "        vertical-align: top;\n",
       "    }\n",
       "\n",
       "    .dataframe thead th {\n",
       "        text-align: right;\n",
       "    }\n",
       "</style>\n",
       "<table border=\"1\" class=\"dataframe\">\n",
       "  <thead>\n",
       "    <tr style=\"text-align: right;\">\n",
       "      <th></th>\n",
       "      <th>BOROUGH_GROUP</th>\n",
       "      <th>CASE_RATE</th>\n",
       "      <th>HOSPITALIZED_RATE</th>\n",
       "      <th>DEATH_RATE</th>\n",
       "      <th>CASE_COUNT</th>\n",
       "      <th>HOSPITALIZED_COUNT</th>\n",
       "      <th>DEATH_COUNT</th>\n",
       "    </tr>\n",
       "  </thead>\n",
       "  <tbody>\n",
       "    <tr>\n",
       "      <th>0</th>\n",
       "      <td>Bronx</td>\n",
       "      <td>10145.98</td>\n",
       "      <td>1548.15</td>\n",
       "      <td>380.48</td>\n",
       "      <td>143891</td>\n",
       "      <td>21956</td>\n",
       "      <td>5396</td>\n",
       "    </tr>\n",
       "    <tr>\n",
       "      <th>1</th>\n",
       "      <td>Brooklyn</td>\n",
       "      <td>8463.13</td>\n",
       "      <td>1176.22</td>\n",
       "      <td>317.39</td>\n",
       "      <td>216648</td>\n",
       "      <td>30110</td>\n",
       "      <td>8125</td>\n",
       "    </tr>\n",
       "    <tr>\n",
       "      <th>2</th>\n",
       "      <td>Manhattan</td>\n",
       "      <td>6336.20</td>\n",
       "      <td>894.21</td>\n",
       "      <td>221.03</td>\n",
       "      <td>103198</td>\n",
       "      <td>14564</td>\n",
       "      <td>3600</td>\n",
       "    </tr>\n",
       "    <tr>\n",
       "      <th>3</th>\n",
       "      <td>Queens</td>\n",
       "      <td>9601.45</td>\n",
       "      <td>1359.49</td>\n",
       "      <td>364.09</td>\n",
       "      <td>216403</td>\n",
       "      <td>30641</td>\n",
       "      <td>8206</td>\n",
       "    </tr>\n",
       "    <tr>\n",
       "      <th>4</th>\n",
       "      <td>StatenIsland</td>\n",
       "      <td>12282.02</td>\n",
       "      <td>1162.26</td>\n",
       "      <td>321.96</td>\n",
       "      <td>58480</td>\n",
       "      <td>5534</td>\n",
       "      <td>1533</td>\n",
       "    </tr>\n",
       "    <tr>\n",
       "      <th>5</th>\n",
       "      <td>Citywide</td>\n",
       "      <td>8860.28</td>\n",
       "      <td>1233.16</td>\n",
       "      <td>322.19</td>\n",
       "      <td>738665</td>\n",
       "      <td>102806</td>\n",
       "      <td>26860</td>\n",
       "    </tr>\n",
       "  </tbody>\n",
       "</table>\n",
       "</div>"
      ],
      "text/plain": [
       "  BOROUGH_GROUP  CASE_RATE  HOSPITALIZED_RATE  DEATH_RATE  CASE_COUNT  \\\n",
       "0         Bronx   10145.98            1548.15      380.48      143891   \n",
       "1      Brooklyn    8463.13            1176.22      317.39      216648   \n",
       "2     Manhattan    6336.20             894.21      221.03      103198   \n",
       "3        Queens    9601.45            1359.49      364.09      216403   \n",
       "4  StatenIsland   12282.02            1162.26      321.96       58480   \n",
       "5      Citywide    8860.28            1233.16      322.19      738665   \n",
       "\n",
       "   HOSPITALIZED_COUNT  DEATH_COUNT  \n",
       "0               21956         5396  \n",
       "1               30110         8125  \n",
       "2               14564         3600  \n",
       "3               30641         8206  \n",
       "4                5534         1533  \n",
       "5              102806        26860  "
      ]
     },
     "execution_count": 6,
     "metadata": {},
     "output_type": "execute_result"
    }
   ],
   "source": [
    "totals_boro"
   ]
  },
  {
   "cell_type": "markdown",
   "metadata": {},
   "source": [
    "### Data Exploration"
   ]
  },
  {
   "cell_type": "code",
   "execution_count": 34,
   "metadata": {},
   "outputs": [
    {
     "data": {
      "text/html": [
       "<div>\n",
       "<style scoped>\n",
       "    .dataframe tbody tr th:only-of-type {\n",
       "        vertical-align: middle;\n",
       "    }\n",
       "\n",
       "    .dataframe tbody tr th {\n",
       "        vertical-align: top;\n",
       "    }\n",
       "\n",
       "    .dataframe thead th {\n",
       "        text-align: right;\n",
       "    }\n",
       "</style>\n",
       "<table border=\"1\" class=\"dataframe\">\n",
       "  <thead>\n",
       "    <tr style=\"text-align: right;\">\n",
       "      <th></th>\n",
       "      <th>borough</th>\n",
       "      <th>_2020</th>\n",
       "    </tr>\n",
       "  </thead>\n",
       "  <tbody>\n",
       "    <tr>\n",
       "      <th>0</th>\n",
       "      <td>NYC Total</td>\n",
       "      <td>8550971</td>\n",
       "    </tr>\n",
       "    <tr>\n",
       "      <th>1</th>\n",
       "      <td>Bronx</td>\n",
       "      <td>1446788</td>\n",
       "    </tr>\n",
       "    <tr>\n",
       "      <th>2</th>\n",
       "      <td>Brooklyn</td>\n",
       "      <td>2648452</td>\n",
       "    </tr>\n",
       "    <tr>\n",
       "      <th>3</th>\n",
       "      <td>Manhattan</td>\n",
       "      <td>1638281</td>\n",
       "    </tr>\n",
       "    <tr>\n",
       "      <th>4</th>\n",
       "      <td>Queens</td>\n",
       "      <td>2330295</td>\n",
       "    </tr>\n",
       "    <tr>\n",
       "      <th>5</th>\n",
       "      <td>Staten Island</td>\n",
       "      <td>487155</td>\n",
       "    </tr>\n",
       "  </tbody>\n",
       "</table>\n",
       "</div>"
      ],
      "text/plain": [
       "            borough    _2020\n",
       "0         NYC Total  8550971\n",
       "1             Bronx  1446788\n",
       "2          Brooklyn  2648452\n",
       "3         Manhattan  1638281\n",
       "4            Queens  2330295\n",
       "5     Staten Island   487155"
      ]
     },
     "execution_count": 34,
     "metadata": {},
     "output_type": "execute_result"
    }
   ],
   "source": [
    "import pandas as pd\n",
    "import requests\n",
    "import json\n",
    "\n",
    "r = requests.get(\"https://data.cityofnewyork.us/resource/xywu-7bv9.json?\")\n",
    "population =pd.DataFrame(json.loads(r.text))\n",
    "population[[\"borough\",\"_2020\"]]"
   ]
  },
  {
   "cell_type": "markdown",
   "metadata": {},
   "source": [
    "### Filling in missing values and creating new columns"
   ]
  },
  {
   "cell_type": "markdown",
   "metadata": {},
   "source": [
    "### Graphing\n",
    "#### Now that I have all the data I will need for Diagram #3 (Correleation Between Infection Rate and  Total Population Per Borough). I will start plotting. "
   ]
  },
  {
   "cell_type": "code",
   "execution_count": null,
   "metadata": {},
   "outputs": [],
   "source": []
  }
 ],
 "metadata": {
  "kernelspec": {
   "display_name": "Python 3",
   "language": "python",
   "name": "python3"
  },
  "language_info": {
   "codemirror_mode": {
    "name": "ipython",
    "version": 3
   },
   "file_extension": ".py",
   "mimetype": "text/x-python",
   "name": "python",
   "nbconvert_exporter": "python",
   "pygments_lexer": "ipython3",
   "version": "3.8.3"
  }
 },
 "nbformat": 4,
 "nbformat_minor": 4
}
