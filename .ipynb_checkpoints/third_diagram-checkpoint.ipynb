{
 "cells": [
  {
   "cell_type": "code",
   "execution_count": 37,
   "metadata": {},
   "outputs": [],
   "source": [
    "import pandas as pd\n",
    "import numpy as np \n",
    "import matplotlib.pyplot as plt\n",
    "import requests\n",
    "import json"
   ]
  },
  {
   "cell_type": "code",
   "execution_count": 38,
   "metadata": {},
   "outputs": [],
   "source": [
    "#Totals Folder: by_boro\n",
    "totals_boro = pd.read_csv(\"https://raw.githubusercontent.com/nychealth/coronavirus-data/master/totals/by-boro.csv\")"
   ]
  },
  {
   "cell_type": "code",
   "execution_count": 39,
   "metadata": {},
   "outputs": [
    {
     "data": {
      "text/html": [
       "<div>\n",
       "<style scoped>\n",
       "    .dataframe tbody tr th:only-of-type {\n",
       "        vertical-align: middle;\n",
       "    }\n",
       "\n",
       "    .dataframe tbody tr th {\n",
       "        vertical-align: top;\n",
       "    }\n",
       "\n",
       "    .dataframe thead th {\n",
       "        text-align: right;\n",
       "    }\n",
       "</style>\n",
       "<table border=\"1\" class=\"dataframe\">\n",
       "  <thead>\n",
       "    <tr style=\"text-align: right;\">\n",
       "      <th></th>\n",
       "      <th>BOROUGH_GROUP</th>\n",
       "      <th>CASE_RATE</th>\n",
       "      <th>HOSPITALIZED_RATE</th>\n",
       "      <th>DEATH_RATE</th>\n",
       "      <th>CASE_COUNT</th>\n",
       "      <th>HOSPITALIZED_COUNT</th>\n",
       "      <th>DEATH_COUNT</th>\n",
       "    </tr>\n",
       "  </thead>\n",
       "  <tbody>\n",
       "    <tr>\n",
       "      <th>0</th>\n",
       "      <td>Bronx</td>\n",
       "      <td>10216.07</td>\n",
       "      <td>1557.25</td>\n",
       "      <td>382.10</td>\n",
       "      <td>144885</td>\n",
       "      <td>22085</td>\n",
       "      <td>5419</td>\n",
       "    </tr>\n",
       "    <tr>\n",
       "      <th>1</th>\n",
       "      <td>Brooklyn</td>\n",
       "      <td>8551.18</td>\n",
       "      <td>1186.76</td>\n",
       "      <td>319.93</td>\n",
       "      <td>218902</td>\n",
       "      <td>30380</td>\n",
       "      <td>8190</td>\n",
       "    </tr>\n",
       "    <tr>\n",
       "      <th>2</th>\n",
       "      <td>Manhattan</td>\n",
       "      <td>6393.05</td>\n",
       "      <td>900.22</td>\n",
       "      <td>221.96</td>\n",
       "      <td>104124</td>\n",
       "      <td>14662</td>\n",
       "      <td>3615</td>\n",
       "    </tr>\n",
       "    <tr>\n",
       "      <th>3</th>\n",
       "      <td>Queens</td>\n",
       "      <td>9683.00</td>\n",
       "      <td>1368.14</td>\n",
       "      <td>366.17</td>\n",
       "      <td>218241</td>\n",
       "      <td>30836</td>\n",
       "      <td>8253</td>\n",
       "    </tr>\n",
       "    <tr>\n",
       "      <th>4</th>\n",
       "      <td>StatenIsland</td>\n",
       "      <td>12387.88</td>\n",
       "      <td>1176.33</td>\n",
       "      <td>324.06</td>\n",
       "      <td>58984</td>\n",
       "      <td>5601</td>\n",
       "      <td>1543</td>\n",
       "    </tr>\n",
       "    <tr>\n",
       "      <th>5</th>\n",
       "      <td>Citywide</td>\n",
       "      <td>8938.46</td>\n",
       "      <td>1242.26</td>\n",
       "      <td>324.10</td>\n",
       "      <td>745183</td>\n",
       "      <td>103565</td>\n",
       "      <td>27020</td>\n",
       "    </tr>\n",
       "  </tbody>\n",
       "</table>\n",
       "</div>"
      ],
      "text/plain": [
       "  BOROUGH_GROUP  CASE_RATE  HOSPITALIZED_RATE  DEATH_RATE  CASE_COUNT  \\\n",
       "0         Bronx   10216.07            1557.25      382.10      144885   \n",
       "1      Brooklyn    8551.18            1186.76      319.93      218902   \n",
       "2     Manhattan    6393.05             900.22      221.96      104124   \n",
       "3        Queens    9683.00            1368.14      366.17      218241   \n",
       "4  StatenIsland   12387.88            1176.33      324.06       58984   \n",
       "5      Citywide    8938.46            1242.26      324.10      745183   \n",
       "\n",
       "   HOSPITALIZED_COUNT  DEATH_COUNT  \n",
       "0               22085         5419  \n",
       "1               30380         8190  \n",
       "2               14662         3615  \n",
       "3               30836         8253  \n",
       "4                5601         1543  \n",
       "5              103565        27020  "
      ]
     },
     "execution_count": 39,
     "metadata": {},
     "output_type": "execute_result"
    }
   ],
   "source": [
    "totals_boro"
   ]
  },
  {
   "cell_type": "markdown",
   "metadata": {},
   "source": [
    "### Data Exploration"
   ]
  },
  {
   "cell_type": "code",
   "execution_count": 40,
   "metadata": {},
   "outputs": [
    {
     "data": {
      "text/html": [
       "<div>\n",
       "<style scoped>\n",
       "    .dataframe tbody tr th:only-of-type {\n",
       "        vertical-align: middle;\n",
       "    }\n",
       "\n",
       "    .dataframe tbody tr th {\n",
       "        vertical-align: top;\n",
       "    }\n",
       "\n",
       "    .dataframe thead th {\n",
       "        text-align: right;\n",
       "    }\n",
       "</style>\n",
       "<table border=\"1\" class=\"dataframe\">\n",
       "  <thead>\n",
       "    <tr style=\"text-align: right;\">\n",
       "      <th></th>\n",
       "      <th>borough</th>\n",
       "      <th>_2020</th>\n",
       "    </tr>\n",
       "  </thead>\n",
       "  <tbody>\n",
       "    <tr>\n",
       "      <th>0</th>\n",
       "      <td>NYC Total</td>\n",
       "      <td>8550971</td>\n",
       "    </tr>\n",
       "    <tr>\n",
       "      <th>1</th>\n",
       "      <td>Bronx</td>\n",
       "      <td>1446788</td>\n",
       "    </tr>\n",
       "    <tr>\n",
       "      <th>2</th>\n",
       "      <td>Brooklyn</td>\n",
       "      <td>2648452</td>\n",
       "    </tr>\n",
       "    <tr>\n",
       "      <th>3</th>\n",
       "      <td>Manhattan</td>\n",
       "      <td>1638281</td>\n",
       "    </tr>\n",
       "    <tr>\n",
       "      <th>4</th>\n",
       "      <td>Queens</td>\n",
       "      <td>2330295</td>\n",
       "    </tr>\n",
       "    <tr>\n",
       "      <th>5</th>\n",
       "      <td>Staten Island</td>\n",
       "      <td>487155</td>\n",
       "    </tr>\n",
       "  </tbody>\n",
       "</table>\n",
       "</div>"
      ],
      "text/plain": [
       "            borough    _2020\n",
       "0         NYC Total  8550971\n",
       "1             Bronx  1446788\n",
       "2          Brooklyn  2648452\n",
       "3         Manhattan  1638281\n",
       "4            Queens  2330295\n",
       "5     Staten Island   487155"
      ]
     },
     "execution_count": 40,
     "metadata": {},
     "output_type": "execute_result"
    }
   ],
   "source": [
    "r = requests.get(\"https://data.cityofnewyork.us/resource/xywu-7bv9.json?\")\n",
    "population =pd.DataFrame(json.loads(r.text))\n",
    "population[[\"borough\",\"_2020\"]]"
   ]
  },
  {
   "cell_type": "code",
   "execution_count": 41,
   "metadata": {},
   "outputs": [],
   "source": [
    "totals_boro[\"POPULATION\"] = population[\"_2020\"]"
   ]
  },
  {
   "cell_type": "code",
   "execution_count": 42,
   "metadata": {},
   "outputs": [],
   "source": [
    "totals_boro.drop(columns = [\"CASE_RATE\",\"HOSPITALIZED_RATE\", \"DEATH_RATE\"], axis=1, inplace=True)"
   ]
  },
  {
   "cell_type": "code",
   "execution_count": 56,
   "metadata": {},
   "outputs": [
    {
     "data": {
      "text/html": [
       "<div>\n",
       "<style scoped>\n",
       "    .dataframe tbody tr th:only-of-type {\n",
       "        vertical-align: middle;\n",
       "    }\n",
       "\n",
       "    .dataframe tbody tr th {\n",
       "        vertical-align: top;\n",
       "    }\n",
       "\n",
       "    .dataframe thead th {\n",
       "        text-align: right;\n",
       "    }\n",
       "</style>\n",
       "<table border=\"1\" class=\"dataframe\">\n",
       "  <thead>\n",
       "    <tr style=\"text-align: right;\">\n",
       "      <th></th>\n",
       "      <th>BOROUGH_GROUP</th>\n",
       "      <th>CASE_COUNT</th>\n",
       "      <th>HOSPITALIZED_COUNT</th>\n",
       "      <th>DEATH_COUNT</th>\n",
       "      <th>POPULATION</th>\n",
       "    </tr>\n",
       "  </thead>\n",
       "  <tbody>\n",
       "    <tr>\n",
       "      <th>0</th>\n",
       "      <td>Bronx</td>\n",
       "      <td>144885</td>\n",
       "      <td>22085</td>\n",
       "      <td>5419</td>\n",
       "      <td>8550971</td>\n",
       "    </tr>\n",
       "    <tr>\n",
       "      <th>1</th>\n",
       "      <td>Brooklyn</td>\n",
       "      <td>218902</td>\n",
       "      <td>30380</td>\n",
       "      <td>8190</td>\n",
       "      <td>1446788</td>\n",
       "    </tr>\n",
       "    <tr>\n",
       "      <th>2</th>\n",
       "      <td>Manhattan</td>\n",
       "      <td>104124</td>\n",
       "      <td>14662</td>\n",
       "      <td>3615</td>\n",
       "      <td>2648452</td>\n",
       "    </tr>\n",
       "    <tr>\n",
       "      <th>3</th>\n",
       "      <td>Queens</td>\n",
       "      <td>218241</td>\n",
       "      <td>30836</td>\n",
       "      <td>8253</td>\n",
       "      <td>1638281</td>\n",
       "    </tr>\n",
       "    <tr>\n",
       "      <th>4</th>\n",
       "      <td>StatenIsland</td>\n",
       "      <td>58984</td>\n",
       "      <td>5601</td>\n",
       "      <td>1543</td>\n",
       "      <td>2330295</td>\n",
       "    </tr>\n",
       "    <tr>\n",
       "      <th>5</th>\n",
       "      <td>Citywide</td>\n",
       "      <td>745183</td>\n",
       "      <td>103565</td>\n",
       "      <td>27020</td>\n",
       "      <td>487155</td>\n",
       "    </tr>\n",
       "  </tbody>\n",
       "</table>\n",
       "</div>"
      ],
      "text/plain": [
       "  BOROUGH_GROUP  CASE_COUNT  HOSPITALIZED_COUNT  DEATH_COUNT POPULATION\n",
       "0         Bronx      144885               22085         5419    8550971\n",
       "1      Brooklyn      218902               30380         8190    1446788\n",
       "2     Manhattan      104124               14662         3615    2648452\n",
       "3        Queens      218241               30836         8253    1638281\n",
       "4  StatenIsland       58984                5601         1543    2330295\n",
       "5      Citywide      745183              103565        27020     487155"
      ]
     },
     "execution_count": 56,
     "metadata": {},
     "output_type": "execute_result"
    }
   ],
   "source": [
    "totals_boro"
   ]
  },
  {
   "cell_type": "markdown",
   "metadata": {},
   "source": [
    "### Graphing\n",
    "#### Now that I have all the data I will need for Diagram #3 (Correleation Between Infection Rate and  Total Population Per Borough). I will start plotting. "
   ]
  },
  {
   "cell_type": "code",
   "execution_count": 14,
   "metadata": {},
   "outputs": [],
   "source": [
    "df_grouped = totals_boro.groupby(\"BOROUGH_GROUP\").sum()"
   ]
  },
  {
   "cell_type": "code",
   "execution_count": 15,
   "metadata": {},
   "outputs": [
    {
     "data": {
      "text/html": [
       "<div>\n",
       "<style scoped>\n",
       "    .dataframe tbody tr th:only-of-type {\n",
       "        vertical-align: middle;\n",
       "    }\n",
       "\n",
       "    .dataframe tbody tr th {\n",
       "        vertical-align: top;\n",
       "    }\n",
       "\n",
       "    .dataframe thead th {\n",
       "        text-align: right;\n",
       "    }\n",
       "</style>\n",
       "<table border=\"1\" class=\"dataframe\">\n",
       "  <thead>\n",
       "    <tr style=\"text-align: right;\">\n",
       "      <th></th>\n",
       "      <th>HOSPITALIZED_COUNT</th>\n",
       "      <th>DEATH_COUNT</th>\n",
       "    </tr>\n",
       "    <tr>\n",
       "      <th>BOROUGH_GROUP</th>\n",
       "      <th></th>\n",
       "      <th></th>\n",
       "    </tr>\n",
       "  </thead>\n",
       "  <tbody>\n",
       "    <tr>\n",
       "      <th>Bronx</th>\n",
       "      <td>22085</td>\n",
       "      <td>5419</td>\n",
       "    </tr>\n",
       "    <tr>\n",
       "      <th>Brooklyn</th>\n",
       "      <td>30380</td>\n",
       "      <td>8190</td>\n",
       "    </tr>\n",
       "    <tr>\n",
       "      <th>Citywide</th>\n",
       "      <td>103565</td>\n",
       "      <td>27020</td>\n",
       "    </tr>\n",
       "    <tr>\n",
       "      <th>Manhattan</th>\n",
       "      <td>14662</td>\n",
       "      <td>3615</td>\n",
       "    </tr>\n",
       "    <tr>\n",
       "      <th>Queens</th>\n",
       "      <td>30836</td>\n",
       "      <td>8253</td>\n",
       "    </tr>\n",
       "    <tr>\n",
       "      <th>StatenIsland</th>\n",
       "      <td>5601</td>\n",
       "      <td>1543</td>\n",
       "    </tr>\n",
       "  </tbody>\n",
       "</table>\n",
       "</div>"
      ],
      "text/plain": [
       "               HOSPITALIZED_COUNT  DEATH_COUNT\n",
       "BOROUGH_GROUP                                 \n",
       "Bronx                       22085         5419\n",
       "Brooklyn                    30380         8190\n",
       "Citywide                   103565        27020\n",
       "Manhattan                   14662         3615\n",
       "Queens                      30836         8253\n",
       "StatenIsland                 5601         1543"
      ]
     },
     "execution_count": 15,
     "metadata": {},
     "output_type": "execute_result"
    }
   ],
   "source": [
    "df_grouped"
   ]
  },
  {
   "cell_type": "code",
   "execution_count": null,
   "metadata": {},
   "outputs": [],
   "source": []
  },
  {
   "cell_type": "code",
   "execution_count": null,
   "metadata": {},
   "outputs": [],
   "source": [
    "user_filter = \"CASE_COUNT\"\n",
    "boroughs = \"BOROUGH_GROUP\"\n",
    "population = \"POPULATION\""
   ]
  },
  {
   "cell_type": "code",
   "execution_count": 54,
   "metadata": {},
   "outputs": [
    {
     "data": {
      "image/png": "[encoded data removed]",
      "text/plain": [
       "<Figure size 1440x720 with 1 Axes>"
      ]
     },
     "metadata": {},
     "output_type": "display_data"
    }
   ],
   "source": [
    "from matplotlib import style\n",
    "\n",
    "user_filter = \"CASE_COUNT\"\n",
    "boroughs = \"BOROUGH_GROUP\"\n",
    "population = \"POPULATION\"\n",
    "ticks = [\"Bronx\", \"Brooklyn\", \"Manhattan\", \"Queens\", \"StatenIsland\",\"Citywide\" ]\n",
    "\n",
    "plt.style.use('fivethirtyeight')\n",
    "fig,ax=plt.subplots(figsize=(20,10))\n",
    "color = (\"red\", \"purple\")\n",
    "ax.barh(ticks, totals_boro[population],color=\"#f3e151\")\n",
    "ax.barh(ticks, totals_boro[user_filter], left= totals_boro[population], color=\"#6c3376\")\n",
    "\n",
    "# plt.bar(year, tutorial_premium, color=\"#f3e151\")  \n",
    "# plt.bar(year, tutorial_public, bottom=tutorial_premium, color=\"#6c3376\")\n",
    "# ax.set_title(f'Number of cases per age group in {borough_filter[:2]}',size=24)\n",
    "# ax.set_xlabel('Age group',size=15)\n",
    "# ax.set_ylabel('Number of cases', size=15)\n",
    "plt.show()"
   ]
  },
  {
   "cell_type": "raw",
   "metadata": {},
   "source": []
  },
  {
   "cell_type": "code",
   "execution_count": null,
   "metadata": {},
   "outputs": [],
   "source": []
  }
 ],
 "metadata": {
  "kernelspec": {
   "display_name": "Python 3",
   "language": "python",
   "name": "python3"
  },
  "language_info": {
   "codemirror_mode": {
    "name": "ipython",
    "version": 3
   },
   "file_extension": ".py",
   "mimetype": "text/x-python",
   "name": "python",
   "nbconvert_exporter": "python",
   "pygments_lexer": "ipython3",
   "version": "3.8.3"
  }
 },
 "nbformat": 4,
 "nbformat_minor": 4
}
